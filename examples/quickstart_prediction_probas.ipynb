{
 "cells": [
  {
   "cell_type": "markdown",
   "id": "a076dac9",
   "metadata": {},
   "source": [
    "# FairPredictor Probabilities Example"
   ]
  },
  {
   "cell_type": "markdown",
   "id": "5ce3ad61",
   "metadata": {},
   "source": [
    "This file contains an example of how to use the FairPredictor on top of predictions probabilities."
   ]
  },
  {
   "cell_type": "code",
   "execution_count": 1,
   "id": "6a39f48a",
   "metadata": {},
   "outputs": [],
   "source": [
    "# Load libraries\n",
    "import numpy as np\n",
    "from oxonfair import FairPredictor\n",
    "from oxonfair import group_metrics as gm"
   ]
  },
  {
   "cell_type": "code",
   "execution_count": 2,
   "id": "e466dac3",
   "metadata": {},
   "outputs": [],
   "source": [
    "# Prep example data\n",
    "n_samples_vali = 100\n",
    "n_samples_test = 100\n",
    "vali_target = np.random.randint(0, 2, size=n_samples_vali)\n",
    "vali_pred_prob = np.random.rand(n_samples_vali)\n",
    "vali_groups = np.random.randint(0, 2, size=n_samples_vali)\n",
    "test_target = np.random.randint(0, 2, size=n_samples_test)\n",
    "test_pred_prob = np.random.rand(n_samples_test)\n",
    "test_groups = np.random.randint(0, 2, size=n_samples_test)"
   ]
  },
  {
   "cell_type": "code",
   "execution_count": 3,
   "id": "e1b13a17",
   "metadata": {},
   "outputs": [],
   "source": [
    "# Convert to correct format\n",
    "vali_dict = {\n",
    "    \"target\": vali_target,\n",
    "    \"data\": np.array((1 - vali_pred_prob, vali_pred_prob)).T,\n",
    "    \"groups\": vali_groups\n",
    "}\n",
    "test_dict = {\n",
    "    \"target\": test_target,\n",
    "    \"data\": np.array((1 - test_pred_prob, test_pred_prob)).T,\n",
    "    \"groups\": test_groups\n",
    "}"
   ]
  },
  {
   "cell_type": "code",
   "execution_count": 4,
   "id": "997e2d2c",
   "metadata": {},
   "outputs": [
    {
     "data": {
      "text/plain": [
       "<oxonfair.learners.fair.FairPredictor at 0x1079d2600>"
      ]
     },
     "execution_count": 4,
     "metadata": {},
     "output_type": "execute_result"
    }
   ],
   "source": [
    "# Get and train the threshold calibrator\n",
    "fpred = FairPredictor(predictor=None, validation_data=vali_dict)\n",
    "fpred.fit(gm.accuracy, gm.recall.diff, 0.02)"
   ]
  },
  {
   "cell_type": "code",
   "execution_count": 5,
   "id": "9b04eddd",
   "metadata": {},
   "outputs": [
    {
     "name": "stdout",
     "output_type": "stream",
     "text": [
      "                   original   updated\n",
      "Accuracy             0.5400  0.560000\n",
      "Balanced Accuracy    0.5400  0.560000\n",
      "F1 score             0.5400  0.476190\n",
      "MCC                  0.0800  0.126660\n",
      "Precision            0.5400  0.588235\n",
      "Recall               0.5400  0.400000\n",
      "ROC AUC              0.5088  0.506800\n"
     ]
    }
   ],
   "source": [
    "# Evaluate on vali data\n",
    "print(fpred.evaluate(vali_dict))\n",
    "# print(fpred.evaluate_groups(vali_dict))\n",
    "# print(fpred.evaluate_fairness(vali_dict))"
   ]
  },
  {
   "cell_type": "code",
   "execution_count": 6,
   "id": "20c78564",
   "metadata": {},
   "outputs": [
    {
     "name": "stdout",
     "output_type": "stream",
     "text": [
      "                   original   updated\n",
      "Accuracy           0.520000  0.570000\n",
      "Balanced Accuracy  0.516026  0.560096\n",
      "F1 score           0.454545  0.410959\n",
      "MCC                0.032686  0.138675\n",
      "Precision          0.500000  0.600000\n",
      "Recall             0.416667  0.312500\n",
      "ROC AUC            0.518830  0.515224\n"
     ]
    }
   ],
   "source": [
    "# Evaluate on test data\n",
    "print(fpred.evaluate(test_dict))"
   ]
  },
  {
   "cell_type": "code",
   "execution_count": 7,
   "id": "17529580",
   "metadata": {},
   "outputs": [],
   "source": [
    "# Get predictions\n",
    "corrected_test_pred = fpred.predict(test_dict)"
   ]
  },
  {
   "cell_type": "code",
   "execution_count": null,
   "id": "622027f3",
   "metadata": {},
   "outputs": [],
   "source": []
  }
 ],
 "metadata": {
  "kernelspec": {
   "display_name": "mm_study",
   "language": "python",
   "name": "python3"
  },
  "language_info": {
   "codemirror_mode": {
    "name": "ipython",
    "version": 3
   },
   "file_extension": ".py",
   "mimetype": "text/x-python",
   "name": "python",
   "nbconvert_exporter": "python",
   "pygments_lexer": "ipython3",
   "version": "3.12.11"
  }
 },
 "nbformat": 4,
 "nbformat_minor": 5
}
